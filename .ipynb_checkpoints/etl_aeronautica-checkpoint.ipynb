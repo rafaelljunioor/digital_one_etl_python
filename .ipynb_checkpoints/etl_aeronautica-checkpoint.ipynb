{
 "cells": [
  {
   "cell_type": "code",
   "execution_count": 2,
   "id": "a2a339dd",
   "metadata": {},
   "outputs": [],
   "source": [
    "import pandas as pd"
   ]
  },
  {
   "cell_type": "code",
   "execution_count": 12,
   "id": "9ee6c016",
   "metadata": {},
   "outputs": [
    {
     "data": {
      "text/plain": [
       "codigo_ocorrencia                    int64\n",
       "codigo_ocorrencia2                   int64\n",
       "ocorrencia_classificacao            object\n",
       "ocorrencia_cidade                   object\n",
       "ocorrencia_uf                       object\n",
       "ocorrencia_aerodromo                object\n",
       "ocorrencia_dia              datetime64[ns]\n",
       "ocorrencia_hora                     object\n",
       "total_recomendacoes                  int64\n",
       "dtype: object"
      ]
     },
     "execution_count": 12,
     "metadata": {},
     "output_type": "execute_result"
    }
   ],
   "source": [
    "df = pd.read_csv(\"ocorrencia_2010_2020.csv\",sep=';',parse_dates=['ocorrencia_dia'])\n",
    "df.dtypes\n"
   ]
  },
  {
   "cell_type": "code",
   "execution_count": 13,
   "id": "e3f647ad",
   "metadata": {},
   "outputs": [
    {
     "data": {
      "text/plain": [
       "0        3\n",
       "1        3\n",
       "2        3\n",
       "3        4\n",
       "4        5\n",
       "        ..\n",
       "5747    12\n",
       "5748    12\n",
       "5749    12\n",
       "5750    12\n",
       "5751    12\n",
       "Name: ocorrencia_dia, Length: 5752, dtype: int64"
      ]
     },
     "execution_count": 13,
     "metadata": {},
     "output_type": "execute_result"
    }
   ],
   "source": [
    "df.ocorrencia_dia.dt.month"
   ]
  },
  {
   "cell_type": "code",
   "execution_count": null,
   "id": "027309a9",
   "metadata": {},
   "outputs": [],
   "source": []
  }
 ],
 "metadata": {
  "kernelspec": {
   "display_name": "Python 3",
   "language": "python",
   "name": "python3"
  },
  "language_info": {
   "codemirror_mode": {
    "name": "ipython",
    "version": 3
   },
   "file_extension": ".py",
   "mimetype": "text/x-python",
   "name": "python",
   "nbconvert_exporter": "python",
   "pygments_lexer": "ipython3",
   "version": "3.8.10"
  }
 },
 "nbformat": 4,
 "nbformat_minor": 5
}
